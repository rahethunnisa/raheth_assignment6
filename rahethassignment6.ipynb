{
 "cells": [
  {
   "cell_type": "code",
   "execution_count": 3,
   "id": "b21aa1c5",
   "metadata": {},
   "outputs": [
    {
     "name": "stdout",
     "output_type": "stream",
     "text": [
      "my friend name is ayan\n",
      "my friend name is farha\n",
      "my friend name is mobbi\n",
      "my friend name is chinnammi\n",
      "my friend name is divya\n",
      "my friend name is bhavya\n",
      "my friend name is ramya\n",
      "my friend name is kusuma\n",
      "my friend name is gayatri\n",
      "my friend name is navya\n"
     ]
    }
   ],
   "source": [
    "friend_names=[\"ayan\",\"farha\",\"mobbi\",\"chinnammi\",\"divya\",\"bhavya\",\"ramya\",\"kusuma\",\"gayatri\",\"navya\"]\n",
    "for p in friend_names:\n",
    "    print(\"my friend name is\",p)"
   ]
  },
  {
   "cell_type": "code",
   "execution_count": 4,
   "id": "e863cb01",
   "metadata": {},
   "outputs": [
    {
     "name": "stdout",
     "output_type": "stream",
     "text": [
      "my family name is shamshad\n",
      "my family name is rakheeb\n",
      "my family name is mobbi\n",
      "my family name is chinnammi\n",
      "my family name is riyaz\n",
      "my family name is munni\n",
      "my family name is choti\n",
      "my family name is ayan\n",
      "my family name is farha\n",
      "my family name is faiz\n"
     ]
    }
   ],
   "source": [
    "family_members=[\"shamshad\",\"rakheeb\",\"mobbi\",\"chinnammi\",\"riyaz\",\"munni\",\"choti\",\"ayan\",\"farha\",\"faiz\"]\n",
    "for p in family_members:\n",
    "    print(\"my family name is\",p)"
   ]
  },
  {
   "cell_type": "code",
   "execution_count": 5,
   "id": "537f59eb",
   "metadata": {},
   "outputs": [
    {
     "name": "stdout",
     "output_type": "stream",
     "text": [
      "my food name is potatofry\n",
      "my food name is ladysfingercurry\n",
      "my food name is brinjalfry\n",
      "my food name is cabbagefry\n",
      "my food name is cauliflowercurry\n",
      "my food name is drumstickcurry\n",
      "my food name is bananafry\n",
      "my food name is bittergourdcurry\n",
      "my food name is spinachcurry\n",
      "my food name is carrotfry\n"
     ]
    }
   ],
   "source": [
    "food_names=[\"potatofry\",\"ladysfingercurry\",\"brinjalfry\",\"cabbagefry\",\"cauliflowercurry\",\"drumstickcurry\",\"bananafry\",\"bittergourdcurry\",\"spinachcurry\",\"carrotfry\"]\n",
    "for p in food_names:\n",
    "    print(\"my food name is\",p)"
   ]
  },
  {
   "cell_type": "code",
   "execution_count": 7,
   "id": "5019b12b",
   "metadata": {},
   "outputs": [
    {
     "name": "stdout",
     "output_type": "stream",
     "text": [
      "chickenfry\n",
      "chickencurry\n",
      "muttonfry\n",
      "fishfry\n",
      "muttoncurry\n",
      "fishcurry\n",
      "prawnsfry\n",
      "shrimpscurry\n",
      "prawnscurry\n",
      "chickenbiryani\n"
     ]
    }
   ],
   "source": [
    "tup=(\"chickenfry\",\"chickencurry\",\"muttonfry\",\"fishfry\",\"muttoncurry\",\"fishcurry\",\"prawnsfry\",\"shrimpscurry\",\"prawnscurry\",\"chickenbiryani\")\n",
    "for food_names in tup:\n",
    "    print(food_names)"
   ]
  },
  {
   "cell_type": "code",
   "execution_count": 9,
   "id": "d548e750",
   "metadata": {},
   "outputs": [
    {
     "name": "stdout",
     "output_type": "stream",
     "text": [
      "\n",
      "pink\n",
      "magenta\n",
      "red\n",
      "purple\n",
      "green\n",
      "violet\n",
      "orange\n",
      "blue\n",
      "yellow\n"
     ]
    }
   ],
   "source": [
    "set={\"red\",\"violet\",\"blue\",\"orange\",\"pink\",\"magenta\",\"purple\",\"\",\"yellow\",\"green\"}\n",
    "for colour_names in set:\n",
    "    print(colour_names) in set"
   ]
  },
  {
   "cell_type": "code",
   "execution_count": 10,
   "id": "78252894",
   "metadata": {},
   "outputs": [
    {
     "name": "stdout",
     "output_type": "stream",
     "text": [
      "january\n",
      "february\n",
      "march\n",
      "april\n",
      "may\n",
      "june\n",
      "july\n",
      "august\n",
      "september\n",
      "october\n",
      "november\n",
      "december\n"
     ]
    }
   ],
   "source": [
    "list=[\"january\",\"february\",\"march\",\"april\",\"may\",\"june\",\"july\",\"august\",\"september\",\"october\",\"november\",\"december\"]\n",
    "for month_names in list:\n",
    "    print(month_names) in list"
   ]
  },
  {
   "cell_type": "code",
   "execution_count": 20,
   "id": "1b4a8961",
   "metadata": {},
   "outputs": [
    {
     "name": "stdout",
     "output_type": "stream",
     "text": [
      "9\n",
      "18\n",
      "27\n",
      "36\n",
      "45\n",
      "54\n",
      "63\n",
      "72\n",
      "81\n",
      "90\n"
     ]
    }
   ],
   "source": [
    "for p in range(9,99,9):\n",
    "    print(p)"
   ]
  },
  {
   "cell_type": "code",
   "execution_count": 21,
   "id": "40230900",
   "metadata": {},
   "outputs": [
    {
     "name": "stdout",
     "output_type": "stream",
     "text": [
      "12\n",
      "24\n",
      "36\n",
      "48\n",
      "60\n",
      "72\n",
      "84\n",
      "96\n",
      "108\n",
      "120\n"
     ]
    }
   ],
   "source": [
    "for p in range(12,132,12):\n",
    "    print(p)"
   ]
  },
  {
   "cell_type": "code",
   "execution_count": null,
   "id": "2ef53f4b",
   "metadata": {},
   "outputs": [],
   "source": []
  }
 ],
 "metadata": {
  "kernelspec": {
   "display_name": "Python 3 (ipykernel)",
   "language": "python",
   "name": "python3"
  },
  "language_info": {
   "codemirror_mode": {
    "name": "ipython",
    "version": 3
   },
   "file_extension": ".py",
   "mimetype": "text/x-python",
   "name": "python",
   "nbconvert_exporter": "python",
   "pygments_lexer": "ipython3",
   "version": "3.10.9"
  }
 },
 "nbformat": 4,
 "nbformat_minor": 5
}
